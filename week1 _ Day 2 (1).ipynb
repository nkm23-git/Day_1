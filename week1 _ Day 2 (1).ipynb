{
 "cells": [
  {
   "cell_type": "code",
   "execution_count": 4,
   "id": "5e23909e-29f3-4c69-9211-9fba1c80fbe4",
   "metadata": {},
   "source": [
    "# List of ten numbers\n",
    "numbers = [1, 12, 17, 19, 20, 28, 32, 35, 37, 39]\n",
    "\n",
    "# Print even numbers using a for loop condition\n",
    "\n",
    "print(\"Even numbers in the list are:\")\n",
    "for num in numbers:\n",
    "    if num % 2 == 0:\n",
    "        print(num)"
   ]
  },
  {
   "cell_type": "code",
   "execution_count": 3,
   "id": "4855dc7e-ee9a-41dc-a91e-2a4b1624766f",
   "metadata": {},
   "outputs": [
    {
     "name": "stdout",
     "output_type": "stream",
     "text": [
      "Employee Details:\n",
      "Name: Naveen Killi\n",
      "ID: 5678\n",
      "Employer:  Metiz Technology\n",
      "Role: Jr. Data Engineer\n",
      "Location: Ohio\n",
      "Experience: 6\n"
     ]
    }
   ],
   "source": [
    "# Create a dictionary to store employee details\n",
    "employee = {\n",
    "    \"Name\": \"Naveen Killi\",\n",
    "    \"ID\": 5678,\n",
    "    \"Employer\": \" Metiz Technology\",\n",
    "    \"Role\": \"Jr. Data Engineer\",\n",
    "    \"Location\": \"Ohio\",\n",
    "    \"Experience\": 6\n",
    "}\n",
    "\n",
    "# Print all key-value pairs\n",
    "print(\"Employee Details:\")\n",
    "for key, value in employee.items():\n",
    "    print(f\"{key}: {value}\")"
   ]
  },
  {
   "cell_type": "code",
   "execution_count": null,
   "id": "7b2d435c-fe1c-4ce3-b371-b5eb10d6bad3",
   "metadata": {},
   "outputs": [],
   "source": []
  }
 ],
 "metadata": {
  "kernelspec": {
   "display_name": "Python [conda env:base] *",
   "language": "python",
   "name": "conda-base-py"
  },
  "language_info": {
   "codemirror_mode": {
    "name": "ipython",
    "version": 3
   },
   "file_extension": ".py",
   "mimetype": "text/x-python",
   "name": "python",
   "nbconvert_exporter": "python",
   "pygments_lexer": "ipython3",
   "version": "3.13.5"
  }
 },
 "nbformat": 4,
 "nbformat_minor": 5
}
